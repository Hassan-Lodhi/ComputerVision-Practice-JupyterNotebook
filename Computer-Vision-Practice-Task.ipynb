{
 "cells": [
  {
   "cell_type": "code",
   "execution_count": 3,
   "id": "5b544ed9",
   "metadata": {},
   "outputs": [],
   "source": [
    "import cv2 as cv\n",
    "import numpy as np "
   ]
  },
  {
   "cell_type": "code",
   "execution_count": 4,
   "id": "f483d76e",
   "metadata": {},
   "outputs": [],
   "source": [
    "# using imread Function \n",
    "img = cv.imread('images/cat.jpg')\n",
    "cv.imshow('cat', img)\n",
    "cv.waitKey(0)\n",
    "cv.destroyAllWindows() "
   ]
  },
  {
   "cell_type": "code",
   "execution_count": 7,
   "id": "392592c1",
   "metadata": {},
   "outputs": [],
   "source": [
    "# For showing blank image\n",
    "blank = np.zeros((500, 500, 3), dtype='int8')\n",
    "cv.imshow('Blank', blank)\n",
    "cv.waitKey(0)\n",
    "cv.destroyAllWindows() "
   ]
  },
  {
   "cell_type": "code",
   "execution_count": 11,
   "id": "582c571c",
   "metadata": {},
   "outputs": [
    {
     "data": {
      "text/plain": [
       "-1"
      ]
     },
     "execution_count": 11,
     "metadata": {},
     "output_type": "execute_result"
    }
   ],
   "source": [
    "# 2-Draw a rectangle\n",
    "cv.rectangle(blank, (0,0), (250, 250), (0,255,0), thickness=2)\n",
    "cv.imshow('Rectangle', blank)\n",
    "cv.waitKey(0)"
   ]
  },
  {
   "cell_type": "code",
   "execution_count": 12,
   "id": "d937cf8b",
   "metadata": {},
   "outputs": [
    {
     "name": "stderr",
     "output_type": "stream",
     "text": [
      "C:\\Users\\Hassan Lodhi\\AppData\\Local\\Temp\\ipykernel_3544\\1363913304.py:2: DeprecationWarning: NumPy will stop allowing conversion of out-of-bound Python integers to integer arrays.  The conversion of 255 to int8 will fail in the future.\n",
      "For the old behavior, usually:\n",
      "    np.array(value).astype(dtype)`\n",
      "will give the desired result (the cast overflows).\n",
      "  blank[:] = 255,2,1\n"
     ]
    },
    {
     "data": {
      "text/plain": [
       "-1"
      ]
     },
     "execution_count": 12,
     "metadata": {},
     "output_type": "execute_result"
    }
   ],
   "source": [
    "# 1-Paint the images\n",
    "blank[:] = 255,2,1\n",
    "cv.imshow('grey', blank)\n",
    "cv.waitKey(0)\n"
   ]
  },
  {
   "cell_type": "code",
   "execution_count": 13,
   "id": "6f390010",
   "metadata": {},
   "outputs": [],
   "source": [
    "# draw line on gray page\n",
    "cv.line(blank, (100,100), (300,400),(255,255,255), thickness=3)\n",
    "cv.imshow('line', blank)\n",
    "cv.waitKey(0)\n",
    "cv.destroyAllWindows() "
   ]
  },
  {
   "cell_type": "code",
   "execution_count": 14,
   "id": "bd8e3860",
   "metadata": {},
   "outputs": [],
   "source": [
    "# 3-Putting text in it\n",
    "cv.putText(blank, 'Hello Hassan ', (255, 255), cv.FONT_HERSHEY_TRIPLEX, 1.0, (0, 255, 0), 2)\n",
    "cv.imshow('Text', blank)\n",
    "cv.waitKey(0)\n",
    "cv.destroyAllWindows() "
   ]
  },
  {
   "cell_type": "code",
   "execution_count": 15,
   "id": "6c9273f0",
   "metadata": {},
   "outputs": [
    {
     "data": {
      "text/plain": [
       "-1"
      ]
     },
     "execution_count": 15,
     "metadata": {},
     "output_type": "execute_result"
    }
   ],
   "source": [
    "# Converting to grey Scale\n",
    "gray = cv.cvtColor(img, cv.COLOR_BGR2GRAY)\n",
    "cv.imshow('Gray', gray)\n",
    "cv.waitKey(0)"
   ]
  },
  {
   "cell_type": "code",
   "execution_count": 16,
   "id": "cf6d9586",
   "metadata": {},
   "outputs": [
    {
     "data": {
      "text/plain": [
       "-1"
      ]
     },
     "execution_count": 16,
     "metadata": {},
     "output_type": "execute_result"
    }
   ],
   "source": [
    "# Blurring the image\n",
    "blur = cv.GaussianBlur(img, (7, 7), cv.BORDER_DEFAULT)\n",
    "cv.imshow('Blur', blur)\n",
    "cv.waitKey(0)"
   ]
  },
  {
   "cell_type": "code",
   "execution_count": 17,
   "id": "e6eb9a38",
   "metadata": {},
   "outputs": [],
   "source": [
    "# Edge cascade\n",
    "canny = cv.Canny(img, 125, 125)\n",
    "cv.imshow('Canny Edges', canny)\n",
    "cv.waitKey(0)\n",
    "cv.destroyAllWindows() "
   ]
  },
  {
   "cell_type": "code",
   "execution_count": 18,
   "id": "7a54229f",
   "metadata": {},
   "outputs": [],
   "source": [
    "# casacading with bluree images\n",
    "canny = cv.Canny(blur, 125, 125)\n",
    "cv.imshow('Canny Edges', canny)\n",
    "cv.waitKey(0)\n",
    "cv.destroyAllWindows() "
   ]
  },
  {
   "cell_type": "code",
   "execution_count": 19,
   "id": "82c89fba",
   "metadata": {},
   "outputs": [],
   "source": [
    "# Dilating cv2.dilate()\n",
    "dilated = cv.dilate(canny, (7, 7), iterations=1)\n",
    "cv.imshow('Dilated', dilated)\n",
    "cv.waitKey(0)\n",
    "cv.destroyAllWindows() "
   ]
  },
  {
   "cell_type": "code",
   "execution_count": 20,
   "id": "1f155a39",
   "metadata": {},
   "outputs": [],
   "source": [
    "# Eroding\n",
    "eroded = cv.erode(dilated, (7, 7), iterations=1)\n",
    "cv.imshow('Eroded', eroded)\n",
    "cv.waitKey(0)\n",
    "cv.destroyAllWindows() "
   ]
  },
  {
   "cell_type": "code",
   "execution_count": 21,
   "id": "f9281de1",
   "metadata": {},
   "outputs": [],
   "source": [
    "# Resize\n",
    "resized = cv.resize(img, (500, 500), interpolation=cv.INTER_CUBIC)\n",
    "cv.imshow('Resized', resized)\n",
    "cv.waitKey(0)\n",
    "cv.destroyAllWindows() "
   ]
  },
  {
   "cell_type": "code",
   "execution_count": 22,
   "id": "45cac1e4",
   "metadata": {},
   "outputs": [],
   "source": [
    "# Crapping\n",
    "croped = img[50:220, 210:410]\n",
    "cv.imshow('Cropped', croped)\n",
    "cv.waitKey(0)\n",
    "cv.destroyAllWindows() "
   ]
  },
  {
   "cell_type": "code",
   "execution_count": 23,
   "id": "bed6be46",
   "metadata": {},
   "outputs": [],
   "source": [
    "# Simple Thresholding\n",
    "threshold, thresh = cv.threshold(gray, 150, 255, cv.THRESH_BINARY)\n",
    "cv.imshow('Threshold', thresh)\n",
    "cv.waitKey(0)\n",
    "cv.destroyAllWindows() "
   ]
  },
  {
   "cell_type": "code",
   "execution_count": 24,
   "id": "844749d3",
   "metadata": {},
   "outputs": [],
   "source": [
    "# Inverse Thresholding\n",
    "threshold, thresh_inv = cv.threshold(gray, 150, 255, cv.THRESH_BINARY_INV)\n",
    "cv.imshow('Threshold Inverse', thresh_inv)\n",
    "cv.waitKey(0)\n",
    "cv.destroyAllWindows()"
   ]
  },
  {
   "cell_type": "code",
   "execution_count": 25,
   "id": "801aab3d",
   "metadata": {},
   "outputs": [
    {
     "data": {
      "text/plain": [
       "-1"
      ]
     },
     "execution_count": 25,
     "metadata": {},
     "output_type": "execute_result"
    }
   ],
   "source": [
    "# Adaptive Thresholding\n",
    "adaptive_thresh = cv.adaptiveThreshold(gray, 255, cv.ADAPTIVE_THRESH_MEAN_C, cv.THRESH_BINARY_INV, 13, 3)\n",
    "cv.imshow('Threshold Adaptive', adaptive_thresh)\n",
    "cv.waitKey(0)"
   ]
  },
  {
   "cell_type": "code",
   "execution_count": null,
   "id": "d97ab58b",
   "metadata": {},
   "outputs": [],
   "source": []
  }
 ],
 "metadata": {
  "kernelspec": {
   "display_name": "Python 3 (ipykernel)",
   "language": "python",
   "name": "python3"
  },
  "language_info": {
   "codemirror_mode": {
    "name": "ipython",
    "version": 3
   },
   "file_extension": ".py",
   "mimetype": "text/x-python",
   "name": "python",
   "nbconvert_exporter": "python",
   "pygments_lexer": "ipython3",
   "version": "3.9.16"
  }
 },
 "nbformat": 4,
 "nbformat_minor": 5
}
